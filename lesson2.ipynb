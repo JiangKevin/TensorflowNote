{
 "cells": [
  {
   "cell_type": "code",
   "execution_count": 1,
   "metadata": {
    "collapsed": true
   },
   "outputs": [],
   "source": [
    "import tensorflow as tf"
   ]
  },
  {
   "cell_type": "markdown",
   "metadata": {},
   "source": [
    "* \n",
    "**tensorflow 中錯誤的計算方式**  \n",
    "tensorflow中的計算，需要透過 session 的 run 來執行  \n",
    "故以下程式並沒有計算z的實際值，只是定義而已"
   ]
  },
  {
   "cell_type": "code",
   "execution_count": 2,
   "metadata": {
    "collapsed": false
   },
   "outputs": [
    {
     "name": "stdout",
     "output_type": "stream",
     "text": [
      "Tensor(\"MatMul:0\", shape=(1, 1), dtype=int32)\n"
     ]
    }
   ],
   "source": [
    "x = tf.constant([[2,4]]) #建立一個常數矩陣 x\n",
    "y = tf.constant([[8],[7]]) #建立一個常數矩陣 y\n",
    "z = tf.matmul(x, y) #在tensorflow中，這行並沒有計算z\n",
    "print(z)"
   ]
  },
  {
   "cell_type": "markdown",
   "metadata": {},
   "source": [
    "* \n",
    "**正確的tensorflow計算方式**  \n",
    "tensorflow 中的計算，必須使用 Session 中的 graph 來執行  \n",
    "宣告一個Session 其中會有一個默認的 graph"
   ]
  },
  {
   "cell_type": "code",
   "execution_count": 3,
   "metadata": {
    "collapsed": false
   },
   "outputs": [
    {
     "name": "stdout",
     "output_type": "stream",
     "text": [
      "Tensor(\"MatMul_1:0\", shape=(1, 1), dtype=int32)\n",
      "[[44]]\n"
     ]
    }
   ],
   "source": [
    "x = tf.constant([[2,4]]) #建立一個常數矩陣 x\n",
    "y = tf.constant([[8],[7]]) #建立一個常數矩陣 y\n",
    "z = tf.matmul(x, y) #並沒有計算，只是定義一個 z\n",
    "sess = tf.Session()  #宣告了一個 session 後，裡面會有一個默認的 graph\n",
    "result = sess.run(z)\n",
    "print(z) #這並不會秀出結果\n",
    "print(result) #這才會秀出結果\n",
    "sess.close() #執行過後關閉 session"
   ]
  },
  {
   "cell_type": "markdown",
   "metadata": {},
   "source": [
    "* \n",
    "**Session的簡便定義方式**"
   ]
  },
  {
   "cell_type": "code",
   "execution_count": 4,
   "metadata": {
    "collapsed": false
   },
   "outputs": [
    {
     "name": "stdout",
     "output_type": "stream",
     "text": [
      "[[44]]\n"
     ]
    }
   ],
   "source": [
    "#一般來說，可以這樣子定義 session， 比較簡便，無須在最後加 sess.close()\n",
    "x = tf.constant([[2,4]])\n",
    "y = tf.constant([[8],[7]])\n",
    "z = tf.matmul(x, y)\n",
    "with tf.Session() as sess:\n",
    "    result = sess.run(z)\n",
    "    print(result)"
   ]
  },
  {
   "cell_type": "markdown",
   "metadata": {},
   "source": [
    "* \n",
    "**Tensorflow 中 Variable 的使用**"
   ]
  },
  {
   "cell_type": "code",
   "execution_count": 5,
   "metadata": {
    "collapsed": false
   },
   "outputs": [
    {
     "name": "stdout",
     "output_type": "stream",
     "text": [
      "[-7 -5]\n",
      "[9 9]\n"
     ]
    }
   ],
   "source": [
    "# tensorflow 變數的使用\n",
    "x = tf.Variable([1,2])  #宣告變數 x\n",
    "a = tf.constant([8,7])\n",
    "sub = tf.subtract(x,a)  #sub 是一個減法的 operator\n",
    "add = tf.add(x,a) #add 是一個加法的 operator\n",
    "\n",
    "#注意，在tensorflow中，執行變數之前，必須先初始化\n",
    "init = tf.global_variables_initializer()\n",
    "with tf.Session() as sess:\n",
    "    sess.run(init) #先初始化\n",
    "    result = sess.run(sub)\n",
    "    print(result)\n",
    "    result = sess.run(add)\n",
    "    print(result)"
   ]
  },
  {
   "cell_type": "code",
   "execution_count": 6,
   "metadata": {
    "collapsed": false
   },
   "outputs": [
    {
     "name": "stdout",
     "output_type": "stream",
     "text": [
      "0\n",
      "1\n",
      "2\n",
      "3\n",
      "4\n",
      "5\n"
     ]
    }
   ],
   "source": [
    "state = tf.Variable(0, name = 'counter') #建立一個變數，初始化為0，取名為counter\n",
    "current = tf.add(state, 1) #建立一個operator ，其為 counter 變數 + 1\n",
    "#tensorflow 中的變數給值，比較複雜，必須透過 \"賦值\"operator\n",
    "update = tf.assign(state, current) # state <- current\n",
    "#注意只要在 tensorflow 中有使用變數的話，就要定義變數初始化 operator\n",
    "init = tf.global_variables_initializer()\n",
    "with tf.Session() as sess:\n",
    "    sess.run(init)\n",
    "    print(sess.run(state)) #列印初始值\n",
    "    for _ in range(5):\n",
    "        sess.run(update)\n",
    "        print(sess.run(state))\n",
    "#當sess執行 update operator 時，會將 current 指定給 state\n",
    "#當執行 assign operator 時，會遇到 current ，其中current 也是一個 opertaor\n",
    "#current 是一個　add operator ，會將state + 1\n",
    "#如果直接 print(state) 並不會顯示變數的值\n",
    "#要看變數的內容值 需透過 print(sess.run(state))"
   ]
  },
  {
   "cell_type": "markdown",
   "metadata": {},
   "source": [
    "* \n",
    "** Fetch **"
   ]
  },
  {
   "cell_type": "code",
   "execution_count": 7,
   "metadata": {
    "collapsed": false
   },
   "outputs": [
    {
     "name": "stdout",
     "output_type": "stream",
     "text": [
      "[9.0, 22.5]\n"
     ]
    }
   ],
   "source": [
    "#Fetch : 在session中同時執行多個operator\n",
    "#定義一系列 Float 常數\n",
    "input1 = tf.constant(3.0) \n",
    "input2 = tf.constant(6.0)\n",
    "input3 = tf.constant(2.5)\n",
    "add = tf.add(input1, input2)\n",
    "mul = tf.multiply(input3, add)\n",
    "with tf.Session() as sess:\n",
    "    result = sess.run([add, mul]) #Fetch\n",
    "    print(result)"
   ]
  },
  {
   "cell_type": "markdown",
   "metadata": {},
   "source": [
    "* \n",
    "**Feed**"
   ]
  },
  {
   "cell_type": "code",
   "execution_count": 8,
   "metadata": {
    "collapsed": false
   },
   "outputs": [
    {
     "name": "stdout",
     "output_type": "stream",
     "text": [
      "[7.2000003]\n"
     ]
    }
   ],
   "source": [
    "#Feed : 要計算再給值\n",
    "#創造兩個佔位符 \n",
    "input1 = tf.placeholder(tf.float32)\n",
    "input2 = tf.placeholder(tf.float32)\n",
    "output = tf.multiply(input1, input2)\n",
    "with tf.Session() as sess:\n",
    "    feed_dict = {input1 : [2.4], input2 : [3.0]}\n",
    "    #將 feed 的數據以字典的形式傳入 operator\n",
    "    print(sess.run(output, feed_dict))"
   ]
  },
  {
   "cell_type": "markdown",
   "metadata": {},
   "source": [
    "* \n",
    "**Tensorflow 最簡單範例 (線性回歸)**"
   ]
  },
  {
   "cell_type": "code",
   "execution_count": 9,
   "metadata": {
    "collapsed": false
   },
   "outputs": [
    {
     "name": "stdout",
     "output_type": "stream",
     "text": [
      "iter= 0 , m= 1.2001193 , b= 2.1313047\n",
      "iter= 1 , m= 1.4411813 , b= 2.5945857\n",
      "iter= 2 , m= 1.4781934 , b= 2.701713\n",
      "iter= 3 , m= 1.4722012 , b= 2.73256\n",
      "iter= 4 , m= 1.4575415 , b= 2.746842\n",
      "iter= 5 , m= 1.4415208 , b= 2.7573094\n",
      "iter= 6 , m= 1.4256802 , b= 2.7666926\n",
      "iter= 7 , m= 1.4103309 , b= 2.7755835\n",
      "iter= 8 , m= 1.3955231 , b= 2.7841182\n",
      "iter= 9 , m= 1.3812515 , b= 2.7923348\n",
      "iter= 10 , m= 1.3674996 , b= 2.8002503\n",
      "iter= 11 , m= 1.3542491 , b= 2.8078766\n",
      "iter= 12 , m= 1.3414819 , b= 2.8152246\n",
      "iter= 13 , m= 1.3291804 , b= 2.8223047\n",
      "iter= 14 , m= 1.3173276 , b= 2.8291266\n",
      "iter= 15 , m= 1.3059071 , b= 2.8356996\n",
      "iter= 16 , m= 1.2949032 , b= 2.842033\n",
      "iter= 17 , m= 1.2843006 , b= 2.8481352\n",
      "iter= 18 , m= 1.2740847 , b= 2.8540149\n",
      "iter= 19 , m= 1.2642415 , b= 2.8596802\n",
      "iter= 20 , m= 1.2547573 , b= 2.8651388\n",
      "iter= 21 , m= 1.2456189 , b= 2.8703983\n",
      "iter= 22 , m= 1.236814 , b= 2.8754659\n",
      "iter= 23 , m= 1.2283303 , b= 2.8803487\n",
      "iter= 24 , m= 1.220156 , b= 2.8850534\n",
      "iter= 25 , m= 1.2122798 , b= 2.8895864\n",
      "iter= 26 , m= 1.2046909 , b= 2.8939543\n",
      "iter= 27 , m= 1.1973788 , b= 2.8981628\n",
      "iter= 28 , m= 1.1903334 , b= 2.9022179\n",
      "iter= 29 , m= 1.1835449 , b= 2.9061248\n",
      "iter= 30 , m= 1.1770041 , b= 2.9098895\n",
      "iter= 31 , m= 1.1707019 , b= 2.9135168\n",
      "iter= 32 , m= 1.1646295 , b= 2.9170115\n",
      "iter= 33 , m= 1.1587785 , b= 2.920379\n",
      "iter= 34 , m= 1.1531411 , b= 2.9236236\n",
      "iter= 35 , m= 1.1477093 , b= 2.92675\n",
      "iter= 36 , m= 1.1424755 , b= 2.9297621\n",
      "iter= 37 , m= 1.1374327 , b= 2.9326646\n",
      "iter= 38 , m= 1.1325737 , b= 2.935461\n",
      "iter= 39 , m= 1.127892 , b= 2.9381557\n",
      "iter= 40 , m= 1.1233811 , b= 2.9407518\n",
      "iter= 41 , m= 1.1190348 , b= 2.9432533\n",
      "iter= 42 , m= 1.114847 , b= 2.9456637\n",
      "iter= 43 , m= 1.1108118 , b= 2.9479861\n",
      "iter= 44 , m= 1.1069239 , b= 2.9502237\n",
      "iter= 45 , m= 1.1031779 , b= 2.9523797\n",
      "iter= 46 , m= 1.0995685 , b= 2.9544573\n",
      "iter= 47 , m= 1.0960907 , b= 2.9564588\n",
      "iter= 48 , m= 1.0927397 , b= 2.9583874\n",
      "iter= 49 , m= 1.0895109 , b= 2.9602456\n"
     ]
    },
    {
     "data": {
      "image/png": "[encoded data removed]",
      "text/plain": [
       "<matplotlib.figure.Figure at 0x1d473c50>"
      ]
     },
     "metadata": {},
     "output_type": "display_data"
    }
   ],
   "source": [
    "import tensorflow as tf\n",
    "import numpy as np\n",
    "import matplotlib.pyplot as plt\n",
    "\n",
    "#產生一個含有隨機的線性模型\n",
    "x_data = np.random.rand(100) #均勻隨機產生100個點\n",
    "noise = 0.1*np.random.randn(100) #隨機項\n",
    "y_data = x_data * 1 + 3 + noise  # y_data = 1 * x_data + 3  + noise\n",
    "\n",
    "#宣告 tensorflow 中的變數\n",
    "# y = m*x + b\n",
    "m = tf.Variable(0.0)\n",
    "b = tf.Variable(0.0)\n",
    "y = m*x_data + b\n",
    "\n",
    "#代價函數 : loss = mean((y-y_data)^2)\n",
    "#其中 tf.reduce_mean 計算 tensor中每一個 dimension 的平均值\n",
    "# tf.square 計算 tensor 中每一個元的平方\n",
    "loss = tf.reduce_mean(tf.square(y_data - y))\n",
    "\n",
    "#Gradient desent method  (learning rate = 0.1)\n",
    "gd = tf.train.GradientDescentOptimizer(0.3)\n",
    "\n",
    "#最小化 代價函數 (operator)\n",
    "train = gd.minimize(loss)\n",
    "\n",
    "#初始化變數 operator\n",
    "init = tf.global_variables_initializer()\n",
    "\n",
    "with tf.Session() as sess:\n",
    "    sess.run(init)\n",
    "    for step in range(50):\n",
    "        sess.run(train)\n",
    "        print(\"iter=\", step, \", m=\",sess.run(m), \", b=\", sess.run(b))\n",
    "    #將 train 後的結果存下來\n",
    "    m = sess.run(m);\n",
    "    b = sess.run(b);\n",
    "    #繪製結果圖\n",
    "    plt.figure()\n",
    "    plt.scatter(x_data, y_data)\n",
    "    plt.plot([0, 1], [b, m*1+b], '-r', lw=3)\n",
    "    plt.show()\n"
   ]
  }
 ],
 "metadata": {
  "anaconda-cloud": {},
  "kernelspec": {
   "display_name": "Python [default]",
   "language": "python",
   "name": "python3"
  },
  "language_info": {
   "codemirror_mode": {
    "name": "ipython",
    "version": 3
   },
   "file_extension": ".py",
   "mimetype": "text/x-python",
   "name": "python",
   "nbconvert_exporter": "python",
   "pygments_lexer": "ipython3",
   "version": "3.5.2"
  }
 },
 "nbformat": 4,
 "nbformat_minor": 1
}
