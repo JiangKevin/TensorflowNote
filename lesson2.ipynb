{
 "cells": [
  {
   "cell_type": "code",
   "execution_count": 3,
   "metadata": {
    "collapsed": true
   },
   "outputs": [],
   "source": [
    "import tensorflow as tf"
   ]
  },
  {
   "cell_type": "markdown",
   "metadata": {},
   "source": [
    "以下是 tensorflow 中錯誤的計算方式  \n",
    "tensorflow中的計算，需要透過 session 的 run 來執行  \n",
    "故以下程式並沒有計算z的實際值，只是定義而已"
   ]
  },
  {
   "cell_type": "code",
   "execution_count": 6,
   "metadata": {
    "collapsed": false
   },
   "outputs": [
    {
     "name": "stdout",
     "output_type": "stream",
     "text": [
      "Tensor(\"MatMul:0\", shape=(1, 1), dtype=int32)\n"
     ]
    }
   ],
   "source": [
    "x = tf.constant([[2,4]]) #建立一個常數矩陣 x\n",
    "y = tf.constant([[8],[7]]) #建立一個常數矩陣 y\n",
    "z = tf.matmul(x, y) #在tensorflow中，這行並沒有計算z\n",
    "print(z)"
   ]
  },
  {
   "cell_type": "markdown",
   "metadata": {},
   "source": [
    "以下是正確的tensorflow 的算方式  \n",
    "tensorflow 中的計算，必須使用 Session 中的 graph 來執行  \n",
    "宣告一個Session 其中會有一個默認的 graph"
   ]
  },
  {
   "cell_type": "code",
   "execution_count": 10,
   "metadata": {
    "collapsed": false
   },
   "outputs": [
    {
     "name": "stdout",
     "output_type": "stream",
     "text": [
      "Tensor(\"MatMul_3:0\", shape=(1, 1), dtype=int32)\n",
      "[[44]]\n"
     ]
    }
   ],
   "source": [
    "x = tf.constant([[2,4]]) #建立一個常數矩陣 x\n",
    "y = tf.constant([[8],[7]]) #建立一個常數矩陣 y\n",
    "z = tf.matmul(x, y) #並沒有計算，只是定義一個 z\n",
    "sess = tf.Session()  #宣告了一個 session 後，裡面會有一個默認的 graph\n",
    "result = sess.run(z)\n",
    "print(z) #這並不會秀出結果\n",
    "print(result) #這才會秀出結果\n",
    "sess.close() #執行過後關閉 session"
   ]
  },
  {
   "cell_type": "code",
   "execution_count": 13,
   "metadata": {
    "collapsed": false
   },
   "outputs": [
    {
     "name": "stdout",
     "output_type": "stream",
     "text": [
      "[[44]]\n"
     ]
    }
   ],
   "source": [
    "#一般來說，可以這樣子定義 session， 比較簡便，無須在最後加 sess.close()\n",
    "x = tf.constant([[2,4]])\n",
    "y = tf.constant([[8],[7]])\n",
    "z = tf.matmul(x, y)\n",
    "with tf.Session() as sess:\n",
    "    result = sess.run(z)\n",
    "    print(result)"
   ]
  },
  {
   "cell_type": "code",
   "execution_count": 16,
   "metadata": {
    "collapsed": false
   },
   "outputs": [
    {
     "name": "stdout",
     "output_type": "stream",
     "text": [
      "[-7 -5]\n",
      "[9 9]\n"
     ]
    }
   ],
   "source": [
    "# tensorflow 變數的使用\n",
    "x = tf.Variable([1,2])  #宣告變數 x\n",
    "a = tf.constant([8,7])\n",
    "sub = tf.subtract(x,a)  #sub 是一個減法的 operator\n",
    "add = tf.add(x,a) #add 是一個加法的 operator\n",
    "\n",
    "#注意，在tensorflow中，執行變數之前，必須先初始化\n",
    "init = tf.global_variables_initializer()\n",
    "with tf.Session() as sess:\n",
    "    sess.run(init) #先初始化\n",
    "    result = sess.run(sub)\n",
    "    print(result)\n",
    "    result = sess.run(add)\n",
    "    print(result)"
   ]
  },
  {
   "cell_type": "code",
   "execution_count": 24,
   "metadata": {
    "collapsed": false
   },
   "outputs": [
    {
     "name": "stdout",
     "output_type": "stream",
     "text": [
      "0\n",
      "1\n",
      "2\n",
      "3\n",
      "4\n",
      "5\n"
     ]
    }
   ],
   "source": [
    "state = tf.Variable(0, name = 'counter') #建立一個變數，初始化為0，取名為counter\n",
    "current = tf.add(state, 1) #建立一個operator ，其為 counter 變數 + 1\n",
    "#tensorflow 中的變數給值，比較複雜，必須透過 \"賦值\"operator\n",
    "update = tf.assign(state, current) # state <- current\n",
    "#注意只要在 tensorflow 中有使用變數的話，就要定義變數初始化 operator\n",
    "init = tf.global_variables_initializer()\n",
    "with tf.Session() as sess:\n",
    "    sess.run(init)\n",
    "    print(sess.run(state)) #列印初始值\n",
    "    for _ in range(5):\n",
    "        sess.run(update)\n",
    "        print(sess.run(state))\n",
    "#當sess執行 update operator 時，會將 current 指定給 state\n",
    "#當執行 assign operator 時，會遇到 current ，其中current 也是一個 opertaor\n",
    "#current 是一個　add operator ，會將state + 1\n",
    "#如果直接 print(state) 並不會顯示變數的值\n",
    "#要看變數的內容值 需透過 print(sess.run(state))"
   ]
  },
  {
   "cell_type": "code",
   "execution_count": 27,
   "metadata": {
    "collapsed": false
   },
   "outputs": [
    {
     "name": "stdout",
     "output_type": "stream",
     "text": [
      "[9.0, 22.5]\n"
     ]
    }
   ],
   "source": [
    "#Fetch : 在session中同時執行多個operator\n",
    "#定義一系列 Float 常數\n",
    "input1 = tf.constant(3.0) \n",
    "input2 = tf.constant(6.0)\n",
    "input3 = tf.constant(2.5)\n",
    "add = tf.add(input1, input2)\n",
    "mul = tf.multiply(input3, add)\n",
    "with tf.Session() as sess:\n",
    "    result = sess.run([add, mul]) #Fetch\n",
    "    print(result)"
   ]
  },
  {
   "cell_type": "code",
   "execution_count": 32,
   "metadata": {
    "collapsed": false
   },
   "outputs": [
    {
     "name": "stdout",
     "output_type": "stream",
     "text": [
      "[7.2000003]\n"
     ]
    }
   ],
   "source": [
    "#Feed : 要計算再給值\n",
    "#創造兩個佔位符 \n",
    "input1 = tf.placeholder(tf.float32)\n",
    "input2 = tf.placeholder(tf.float32)\n",
    "output = tf.multiply(input1, input2)\n",
    "with tf.Session() as sess:\n",
    "    feed_dict = {input1 : [2.4], input2 : [3.0]}\n",
    "    #將 feed 的數據以字典的形式傳入 operator\n",
    "    print(sess.run(output, feed_dict))"
   ]
  },
  {
   "cell_type": "code",
   "execution_count": 8,
   "metadata": {
    "collapsed": false
   },
   "outputs": [
    {
     "name": "stdout",
     "output_type": "stream",
     "text": [
      "iter= 0 , m= 0.34576362 , b= 0.6933033\n",
      "iter= 1 , m= 0.6043188 , b= 1.2153467\n",
      "iter= 2 , m= 0.7973214 , b= 1.6086044\n",
      "iter= 3 , m= 0.9410546 , b= 1.905014\n",
      "iter= 4 , m= 1.0477618 , b= 2.1285903\n",
      "iter= 5 , m= 1.1266489 , b= 2.297391\n",
      "iter= 6 , m= 1.1846378 , b= 2.4249938\n",
      "iter= 7 , m= 1.2269328 , b= 2.5216088\n",
      "iter= 8 , m= 1.2574469 , b= 2.5949132\n",
      "iter= 9 , m= 1.2791221 , b= 2.6506798\n",
      "iter= 10 , m= 1.2941703 , b= 2.6932495\n",
      "iter= 11 , m= 1.3042543 , b= 2.7258863\n",
      "iter= 12 , m= 1.3106242 , b= 2.7510452\n",
      "iter= 13 , m= 1.3142197 , b= 2.7705717\n",
      "iter= 14 , m= 1.3157471 , b= 2.7858539\n",
      "iter= 15 , m= 1.3157372 , b= 2.7979357\n",
      "iter= 16 , m= 1.3145889 , b= 2.807602\n",
      "iter= 17 , m= 1.3126017 , b= 2.8154433\n",
      "iter= 18 , m= 1.3100008 , b= 2.8219037\n",
      "iter= 19 , m= 1.306955 , b= 2.8273172\n",
      "iter= 20 , m= 1.3035913 , b= 2.8319352\n",
      "iter= 21 , m= 1.3000046 , b= 2.8359468\n",
      "iter= 22 , m= 1.2962663 , b= 2.8394942\n",
      "iter= 23 , m= 1.2924297 , b= 2.8426845\n",
      "iter= 24 , m= 1.2885346 , b= 2.8455985\n",
      "iter= 25 , m= 1.284611 , b= 2.8482969\n",
      "iter= 26 , m= 1.2806808 , b= 2.8508255\n",
      "iter= 27 , m= 1.2767605 , b= 2.853219\n",
      "iter= 28 , m= 1.2728621 , b= 2.8555036\n",
      "iter= 29 , m= 1.2689946 , b= 2.8576987\n",
      "iter= 30 , m= 1.2651645 , b= 2.8598194\n",
      "iter= 31 , m= 1.2613764 , b= 2.861877\n",
      "iter= 32 , m= 1.2576336 , b= 2.8638802\n",
      "iter= 33 , m= 1.2539383 , b= 2.8658357\n",
      "iter= 34 , m= 1.2502922 , b= 2.8677485\n",
      "iter= 35 , m= 1.246696 , b= 2.8696225\n",
      "iter= 36 , m= 1.2431504 , b= 2.8714607\n",
      "iter= 37 , m= 1.2396554 , b= 2.8732655\n",
      "iter= 38 , m= 1.2362111 , b= 2.875039\n",
      "iter= 39 , m= 1.232817 , b= 2.8767827\n",
      "iter= 40 , m= 1.2294731 , b= 2.8784974\n",
      "iter= 41 , m= 1.2261788 , b= 2.8801844\n",
      "iter= 42 , m= 1.2229334 , b= 2.8818448\n",
      "iter= 43 , m= 1.2197366 , b= 2.8834789\n",
      "iter= 44 , m= 1.2165877 , b= 2.8850877\n",
      "iter= 45 , m= 1.213486 , b= 2.8866715\n",
      "iter= 46 , m= 1.2104309 , b= 2.888231\n",
      "iter= 47 , m= 1.2074218 , b= 2.8897667\n",
      "iter= 48 , m= 1.204458 , b= 2.891279\n",
      "iter= 49 , m= 1.2015388 , b= 2.8927681\n",
      "iter= 50 , m= 1.1986636 , b= 2.894235\n",
      "iter= 51 , m= 1.1958318 , b= 2.8956792\n",
      "iter= 52 , m= 1.1930426 , b= 2.8971016\n",
      "iter= 53 , m= 1.1902956 , b= 2.8985026\n",
      "iter= 54 , m= 1.18759 , b= 2.8998823\n",
      "iter= 55 , m= 1.1849253 , b= 2.9012413\n",
      "iter= 56 , m= 1.1823008 , b= 2.9025795\n",
      "iter= 57 , m= 1.1797159 , b= 2.9038978\n",
      "iter= 58 , m= 1.17717 , b= 2.905196\n",
      "iter= 59 , m= 1.1746626 , b= 2.9064746\n",
      "iter= 60 , m= 1.172193 , b= 2.907734\n",
      "iter= 61 , m= 1.1697607 , b= 2.9089742\n",
      "iter= 62 , m= 1.1673651 , b= 2.9101956\n",
      "iter= 63 , m= 1.1650057 , b= 2.9113986\n",
      "iter= 64 , m= 1.1626819 , b= 2.9125836\n",
      "iter= 65 , m= 1.1603932 , b= 2.9137506\n",
      "iter= 66 , m= 1.1581391 , b= 2.9149\n",
      "iter= 67 , m= 1.155919 , b= 2.916032\n",
      "iter= 68 , m= 1.1537323 , b= 2.9171472\n",
      "iter= 69 , m= 1.1515787 , b= 2.9182453\n",
      "iter= 70 , m= 1.1494576 , b= 2.9193268\n",
      "iter= 71 , m= 1.1473686 , b= 2.920392\n",
      "iter= 72 , m= 1.145311 , b= 2.921441\n",
      "iter= 73 , m= 1.1432846 , b= 2.9224744\n",
      "iter= 74 , m= 1.1412888 , b= 2.9234922\n",
      "iter= 75 , m= 1.139323 , b= 2.9244945\n",
      "iter= 76 , m= 1.1373869 , b= 2.9254818\n",
      "iter= 77 , m= 1.13548 , b= 2.926454\n",
      "iter= 78 , m= 1.133602 , b= 2.9274116\n",
      "iter= 79 , m= 1.1317524 , b= 2.9283547\n",
      "iter= 80 , m= 1.1299306 , b= 2.9292836\n",
      "iter= 81 , m= 1.1281364 , b= 2.9301984\n",
      "iter= 82 , m= 1.1263692 , b= 2.9310994\n",
      "iter= 83 , m= 1.1246288 , b= 2.9319868\n",
      "iter= 84 , m= 1.1229147 , b= 2.9328609\n",
      "iter= 85 , m= 1.1212264 , b= 2.9337218\n",
      "iter= 86 , m= 1.1195636 , b= 2.9345696\n",
      "iter= 87 , m= 1.1179259 , b= 2.9354048\n",
      "iter= 88 , m= 1.1163129 , b= 2.9362273\n",
      "iter= 89 , m= 1.1147243 , b= 2.9370375\n",
      "iter= 90 , m= 1.1131597 , b= 2.9378352\n",
      "iter= 91 , m= 1.1116186 , b= 2.938621\n",
      "iter= 92 , m= 1.1101009 , b= 2.939395\n",
      "iter= 93 , m= 1.108606 , b= 2.9401572\n",
      "iter= 94 , m= 1.1071337 , b= 2.940908\n",
      "iter= 95 , m= 1.1056837 , b= 2.9416473\n",
      "iter= 96 , m= 1.1042556 , b= 2.9423754\n",
      "iter= 97 , m= 1.102849 , b= 2.9430926\n",
      "iter= 98 , m= 1.1014637 , b= 2.943799\n",
      "iter= 99 , m= 1.1000992 , b= 2.9444947\n",
      "iter= 100 , m= 1.0987554 , b= 2.94518\n",
      "iter= 101 , m= 1.0974318 , b= 2.945855\n",
      "iter= 102 , m= 1.0961282 , b= 2.9465196\n",
      "iter= 103 , m= 1.0948443 , b= 2.9471743\n",
      "iter= 104 , m= 1.0935799 , b= 2.947819\n",
      "iter= 105 , m= 1.0923345 , b= 2.948454\n",
      "iter= 106 , m= 1.091108 , b= 2.9490793\n",
      "iter= 107 , m= 1.0898999 , b= 2.9496953\n",
      "iter= 108 , m= 1.0887101 , b= 2.9503021\n",
      "iter= 109 , m= 1.0875381 , b= 2.9508996\n",
      "iter= 110 , m= 1.0863839 , b= 2.951488\n",
      "iter= 111 , m= 1.0852472 , b= 2.9520676\n",
      "iter= 112 , m= 1.0841275 , b= 2.9526386\n",
      "iter= 113 , m= 1.0830249 , b= 2.9532008\n",
      "iter= 114 , m= 1.0819389 , b= 2.9537547\n",
      "iter= 115 , m= 1.0808692 , b= 2.9543002\n",
      "iter= 116 , m= 1.0798157 , b= 2.9548373\n",
      "iter= 117 , m= 1.0787781 , b= 2.9553664\n",
      "iter= 118 , m= 1.0777562 , b= 2.9558876\n",
      "iter= 119 , m= 1.0767497 , b= 2.9564006\n",
      "iter= 120 , m= 1.0757583 , b= 2.956906\n",
      "iter= 121 , m= 1.074782 , b= 2.957404\n",
      "iter= 122 , m= 1.0738205 , b= 2.9578943\n",
      "iter= 123 , m= 1.0728734 , b= 2.9583771\n",
      "iter= 124 , m= 1.0719405 , b= 2.9588528\n",
      "iter= 125 , m= 1.0710219 , b= 2.9593213\n",
      "iter= 126 , m= 1.0701171 , b= 2.9597826\n",
      "iter= 127 , m= 1.0692259 , b= 2.960237\n",
      "iter= 128 , m= 1.0683482 , b= 2.9606845\n",
      "iter= 129 , m= 1.0674837 , b= 2.9611254\n",
      "iter= 130 , m= 1.0666323 , b= 2.9615595\n",
      "iter= 131 , m= 1.0657938 , b= 2.961987\n",
      "iter= 132 , m= 1.0649679 , b= 2.962408\n",
      "iter= 133 , m= 1.0641545 , b= 2.962823\n",
      "iter= 134 , m= 1.0633534 , b= 2.9632313\n",
      "iter= 135 , m= 1.0625644 , b= 2.9636338\n",
      "iter= 136 , m= 1.0617872 , b= 2.96403\n",
      "iter= 137 , m= 1.0610218 , b= 2.9644203\n",
      "iter= 138 , m= 1.0602679 , b= 2.9648046\n",
      "iter= 139 , m= 1.0595255 , b= 2.9651833\n",
      "iter= 140 , m= 1.0587943 , b= 2.9655561\n",
      "iter= 141 , m= 1.058074 , b= 2.9659233\n",
      "iter= 142 , m= 1.0573647 , b= 2.966285\n",
      "iter= 143 , m= 1.0566661 , b= 2.9666412\n",
      "iter= 144 , m= 1.0559781 , b= 2.9669921\n",
      "iter= 145 , m= 1.0553004 , b= 2.9673376\n",
      "iter= 146 , m= 1.0546329 , b= 2.9676778\n",
      "iter= 147 , m= 1.0539756 , b= 2.968013\n",
      "iter= 148 , m= 1.0533282 , b= 2.9683433\n",
      "iter= 149 , m= 1.0526905 , b= 2.9686685\n",
      "iter= 150 , m= 1.0520624 , b= 2.9689887\n",
      "iter= 151 , m= 1.0514438 , b= 2.969304\n",
      "iter= 152 , m= 1.0508345 , b= 2.9696147\n",
      "iter= 153 , m= 1.0502346 , b= 2.9699206\n",
      "iter= 154 , m= 1.0496436 , b= 2.970222\n",
      "iter= 155 , m= 1.0490615 , b= 2.9705188\n",
      "iter= 156 , m= 1.0484883 , b= 2.9708111\n",
      "iter= 157 , m= 1.0479237 , b= 2.9710991\n",
      "iter= 158 , m= 1.0473676 , b= 2.9713826\n",
      "iter= 159 , m= 1.0468199 , b= 2.9716618\n",
      "iter= 160 , m= 1.0462805 , b= 2.971937\n",
      "iter= 161 , m= 1.0457492 , b= 2.9722078\n",
      "iter= 162 , m= 1.045226 , b= 2.9724746\n",
      "iter= 163 , m= 1.0447106 , b= 2.9727373\n",
      "iter= 164 , m= 1.044203 , b= 2.9729962\n",
      "iter= 165 , m= 1.0437031 , b= 2.973251\n",
      "iter= 166 , m= 1.0432107 , b= 2.9735022\n",
      "iter= 167 , m= 1.0427258 , b= 2.9737494\n",
      "iter= 168 , m= 1.0422482 , b= 2.9739928\n",
      "iter= 169 , m= 1.0417778 , b= 2.9742327\n",
      "iter= 170 , m= 1.0413146 , b= 2.974469\n",
      "iter= 171 , m= 1.0408583 , b= 2.9747016\n",
      "iter= 172 , m= 1.0404088 , b= 2.9749308\n",
      "iter= 173 , m= 1.0399662 , b= 2.9751565\n",
      "iter= 174 , m= 1.0395303 , b= 2.9753788\n",
      "iter= 175 , m= 1.0391009 , b= 2.9755976\n",
      "iter= 176 , m= 1.038678 , b= 2.9758134\n",
      "iter= 177 , m= 1.0382615 , b= 2.9760258\n",
      "iter= 178 , m= 1.0378513 , b= 2.976235\n",
      "iter= 179 , m= 1.0374473 , b= 2.976441\n",
      "iter= 180 , m= 1.0370494 , b= 2.9766438\n",
      "iter= 181 , m= 1.0366576 , b= 2.9768436\n",
      "iter= 182 , m= 1.0362716 , b= 2.9770403\n",
      "iter= 183 , m= 1.0358914 , b= 2.9772341\n",
      "iter= 184 , m= 1.035517 , b= 2.977425\n",
      "iter= 185 , m= 1.0351483 , b= 2.9776132\n",
      "iter= 186 , m= 1.034785 , b= 2.9777985\n",
      "iter= 187 , m= 1.0344273 , b= 2.9779809\n",
      "iter= 188 , m= 1.034075 , b= 2.9781604\n",
      "iter= 189 , m= 1.033728 , b= 2.9783373\n",
      "iter= 190 , m= 1.0333862 , b= 2.9785116\n",
      "iter= 191 , m= 1.0330497 , b= 2.9786832\n",
      "iter= 192 , m= 1.0327182 , b= 2.9788523\n",
      "iter= 193 , m= 1.0323917 , b= 2.9790187\n",
      "iter= 194 , m= 1.0320702 , b= 2.9791827\n",
      "iter= 195 , m= 1.0317534 , b= 2.9793441\n",
      "iter= 196 , m= 1.0314415 , b= 2.9795032\n",
      "iter= 197 , m= 1.0311342 , b= 2.9796598\n",
      "iter= 198 , m= 1.0308317 , b= 2.979814\n",
      "iter= 199 , m= 1.0305337 , b= 2.9799662\n"
     ]
    },
    {
     "data": {
      "image/png": "[encoded data removed]",
      "text/plain": [
       "<matplotlib.figure.Figure at 0x1ca8eeb8>"
      ]
     },
     "metadata": {},
     "output_type": "display_data"
    }
   ],
   "source": [
    "#Tensorflow 最簡單的範例\n",
    "import tensorflow as tf\n",
    "import numpy as np\n",
    "import matplotlib.pyplot as plt\n",
    "\n",
    "#產生一個含有隨機的線性模型\n",
    "x_data = np.random.rand(100) #均勻隨機產生100個點\n",
    "noise = 0.1*np.random.randn(100) #隨機項\n",
    "y_data = x_data * 1 + 3 + noise  # y_data = 1 * x_data + 3  + noise\n",
    "\n",
    "#宣告 tensorflow 中的變數\n",
    "# y = m*x + b\n",
    "m = tf.Variable(0.0)\n",
    "b = tf.Variable(0.0)\n",
    "y = m*x_data + b\n",
    "\n",
    "#代價函數 : loss = mean((y-y_data)^2)\n",
    "#其中 tf.reduce_mean 計算 tensor中每一個 dimension 的平均值\n",
    "# tf.square 計算 tensor 中每一個元的平方\n",
    "loss = tf.reduce_mean(tf.square(y_data - y))\n",
    "\n",
    "#Gradient desent method  (learning rate = 0.1)\n",
    "gd = tf.train.GradientDescentOptimizer(0.1)\n",
    "\n",
    "#最小化 代價函數 (operator)\n",
    "train = gd.minimize(loss)\n",
    "\n",
    "#初始化變數 operator\n",
    "init = tf.global_variables_initializer()\n",
    "\n",
    "with tf.Session() as sess:\n",
    "    sess.run(init)\n",
    "    for step in range(200):\n",
    "        sess.run(train)\n",
    "        print(\"iter=\", step, \", m=\",sess.run(m), \", b=\", sess.run(b))\n",
    "    #將 train 後的結果存下來\n",
    "    m = sess.run(m);\n",
    "    b = sess.run(b);\n",
    "    #繪製結果圖\n",
    "    plt.figure()\n",
    "    plt.scatter(x_data, y_data)\n",
    "    plt.plot([0, 1], [b, m*1+b], '-r', lw=3)\n",
    "    plt.show()\n"
   ]
  },
  {
   "cell_type": "code",
   "execution_count": null,
   "metadata": {
    "collapsed": true
   },
   "outputs": [],
   "source": []
  }
 ],
 "metadata": {
  "anaconda-cloud": {},
  "kernelspec": {
   "display_name": "Python [default]",
   "language": "python",
   "name": "python3"
  },
  "language_info": {
   "codemirror_mode": {
    "name": "ipython",
    "version": 3
   },
   "file_extension": ".py",
   "mimetype": "text/x-python",
   "name": "python",
   "nbconvert_exporter": "python",
   "pygments_lexer": "ipython3",
   "version": "3.5.2"
  }
 },
 "nbformat": 4,
 "nbformat_minor": 1
}
