{
 "cells": [
  {
   "cell_type": "markdown",
   "metadata": {},
   "source": [
    "###  非線性回歸 (2次回歸)"
   ]
  },
  {
   "cell_type": "code",
   "execution_count": 1,
   "metadata": {
    "collapsed": false
   },
   "outputs": [
    {
     "data": {
      "image/png": "[encoded data removed]",
      "text/plain": [
       "<matplotlib.figure.Figure at 0x1ca335f8>"
      ]
     },
     "metadata": {},
     "output_type": "display_data"
    }
   ],
   "source": [
    "import tensorflow as tf\n",
    "import numpy as np\n",
    "import matplotlib.pyplot as plt\n",
    "\n",
    "#使用 numpy 來產生200個樣本點\n",
    "x_data = np.linspace(-0.5, 0.5, 200)[:, np.newaxis] #column\n",
    "noise = np.random.normal(0, 0.01, x_data.shape)\n",
    "y_data = np.square(x_data) + noise\n",
    "\n",
    "#定義兩個placeholder，目的在於 train時候透過 feed 傳入 x_data 與 y_data\n",
    "x = tf.placeholder(tf.float32, [None, 1]) #維度為 ?*1\n",
    "y = tf.placeholder(tf.float32, [None, 1])\n",
    "\n",
    "#定義神經網路的結構\n",
    "\n",
    "#定義中間層，總共10個神經元\n",
    "Weights_L1 = tf.Variable(tf.random_normal([1, 10])) #定義權值變數，並且初始化為 normal 1*10\n",
    "Biases_L1 = tf.Variable(tf.zeros([1,10])) #定義bias變數，並且初始化為0矩陣\n",
    "Wx_plus_b_L1 = tf.matmul(x, Weights_L1) + Biases_L1  # Weights_L1*x + Biases_L1\n",
    "L1 = tf.nn.tanh(Wx_plus_b_L1) #中間層的輸出 (激活函數為 雙曲正切函數)\n",
    "\n",
    "#定義輸出層，總共1個神經元\n",
    "Weights_L2 = tf.Variable(tf.random_normal([10,1]))\n",
    "Biases_L2 = tf.Variable(tf.zeros([1,1]))\n",
    "Wx_plus_b_L2 = tf.matmul(L1, Weights_L2) + Biases_L2  # Weights_L2*L1 + Biases_L2 (輸出層的輸入，是中間層的輸出L1)\n",
    "prediction = tf.nn.tanh(Wx_plus_b_L2)\n",
    "\n",
    "#代價函數 : loss = mean((y - prediction)^2)\n",
    "loss = tf.reduce_mean(tf.square(y_data - prediction))\n",
    "\n",
    "#Gradient desent method  (learning rate = 0.1)\n",
    "gd = tf.train.GradientDescentOptimizer(0.1)\n",
    "\n",
    "#最小化 代價函數 (operator)\n",
    "train = gd.minimize(loss)\n",
    "\n",
    "#初始化變數 operator\n",
    "init = tf.global_variables_initializer()\n",
    "\n",
    "#開始training\n",
    "with tf.Session() as sess:\n",
    "    sess.run(init) #變數初始化\n",
    "    feed_dict = {x : x_data, y : y_data} #訓練時 要傳入的 feed 的字典\n",
    "    for _ in range(2000):\n",
    "        sess.run(train, feed_dict)   \n",
    "    #獲得預測值\n",
    "    feed_pre_dict = {x : x_data} #觀察預測值時 要傳入的 feed 的字典\n",
    "    pv = sess.run(prediction, feed_pre_dict) #預測值\n",
    "    \n",
    "    plt.figure()\n",
    "    plt.scatter(x_data, y_data)\n",
    "    plt.plot(x_data, pv, 'r-', lw=5)\n",
    "    plt.show()"
   ]
  },
  {
   "cell_type": "markdown",
   "metadata": {
    "collapsed": true
   },
   "source": [
    "### 手寫數字識別 (簡單版本)\n"
   ]
  },
  {
   "cell_type": "code",
   "execution_count": 3,
   "metadata": {
    "collapsed": false
   },
   "outputs": [
    {
     "name": "stdout",
     "output_type": "stream",
     "text": [
      "Extracting MNIST_data\\train-images-idx3-ubyte.gz\n",
      "Extracting MNIST_data\\train-labels-idx1-ubyte.gz\n",
      "Extracting MNIST_data\\t10k-images-idx3-ubyte.gz\n",
      "Extracting MNIST_data\\t10k-labels-idx1-ubyte.gz\n",
      "Iter =0, Testing Accuracy =0.8331\n",
      "Iter =1, Testing Accuracy =0.8699\n",
      "Iter =2, Testing Accuracy =0.8821\n",
      "Iter =3, Testing Accuracy =0.8887\n",
      "Iter =4, Testing Accuracy =0.8935\n",
      "Iter =5, Testing Accuracy =0.8964\n",
      "Iter =6, Testing Accuracy =0.899\n",
      "Iter =7, Testing Accuracy =0.9017\n",
      "Iter =8, Testing Accuracy =0.9037\n",
      "Iter =9, Testing Accuracy =0.9054\n",
      "Iter =10, Testing Accuracy =0.9064\n",
      "Iter =11, Testing Accuracy =0.9079\n",
      "Iter =12, Testing Accuracy =0.909\n",
      "Iter =13, Testing Accuracy =0.9092\n",
      "Iter =14, Testing Accuracy =0.9098\n",
      "Iter =15, Testing Accuracy =0.9109\n",
      "Iter =16, Testing Accuracy =0.9118\n",
      "Iter =17, Testing Accuracy =0.912\n",
      "Iter =18, Testing Accuracy =0.9127\n",
      "Iter =19, Testing Accuracy =0.9133\n",
      "Iter =20, Testing Accuracy =0.9142\n"
     ]
    }
   ],
   "source": [
    "import tensorflow as tf\n",
    "from tensorflow.examples.tutorials.mnist import input_data\n",
    "\n",
    "#載入數據集\n",
    "mnist = input_data.read_data_sets(\"MNIST_data\", one_hot = True) #這步有時候會失效\n",
    "\n",
    "#因為數據集很大，故我們要用stochastic gradient descent，會將資料集分批次，並不會一次將所有資料拿來train (計算量很大)\n",
    "#每一個批次的大小\n",
    "batch_size = 100 \n",
    "\n",
    "#計算一共有多少批次\n",
    "n_batch = mnist.train.num_examples // batch_size  # // 在python中表示取商\n",
    "\n",
    "#定義兩個placeholder，目的在於 train時候透過 feed 傳入 x_data 與 y_data\n",
    "x = tf.placeholder(tf.float32, [None, 784]) # 28 * 28 = 784\n",
    "y = tf.placeholder(tf.float32, [None, 10]) #輸出層，有十個神經元，每個神經元有一個激活值，十個激活值排成一個 1*10的向量\n",
    "\n",
    "#建立一個簡單的神經網路 (只有輸出層，總共10個神經元)\n",
    "W = tf.Variable(tf.zeros([784, 10]))\n",
    "b = tf.Variable(tf.zeros([1, 10]))\n",
    "prediction = tf.nn.softmax(tf.matmul(x, W) + b)\n",
    "\n",
    "#代價函數 : loss = mean((y - prediction)^2)\n",
    "loss = tf.reduce_mean(tf.square(y - prediction))\n",
    "\n",
    "#Gradient desent method  (learning rate = 0.2)\n",
    "gd = tf.train.GradientDescentOptimizer(0.2)\n",
    "\n",
    "#最小化 代價函數 (operator)\n",
    "train = gd.minimize(loss)\n",
    "\n",
    "#初始化變數 operator\n",
    "init = tf.global_variables_initializer()\n",
    "\n",
    "#如果y標籤最大的值，與prediction標籤最大的值相等，則回傳true\n",
    "#結果存在一個 boolean 的變數中\n",
    "correct_prediction = tf.equal(tf.argmax(y, 1), tf.argmax(prediction, 1)) #argmax 回傳一維張量中最大的值，所在的位置\n",
    "\n",
    "#求準確率\n",
    "#轉換資料型態 boolean 轉成 float，接著在取平均值，得到準確率\n",
    "accuracy = tf.reduce_mean(tf.cast(correct_prediction, tf.float32)) \n",
    "\n",
    "#開始training\n",
    "with tf.Session() as sess:\n",
    "    sess.run(init)\n",
    "    for epoch in range(21): #總共疊代21次 (outer loop)\n",
    "        #每一次 outer loop 不一次拿所有的數據集，來做 Gradient desent，這就是 stochastic gradient descent\n",
    "        for batch in range(n_batch): #每一個 outer loop 疊代 n_batch 個批次\n",
    "            #利用 train.next_batch 函數，讀取一個batch的 x, y 存給 batch_xs, batch_ys\n",
    "            batch_xs, batch_ys = mnist.train.next_batch(batch_size)\n",
    "            feed_dict = {x: batch_xs, y: batch_ys}  #拿來feed 的 dictionary\n",
    "            sess.run(train, feed_dict)\n",
    "        #每做完一次 outer loop 計算一次準確率\n",
    "        outer_loop_feed_dict = {x: mnist.test.images, y: mnist.test.labels} #testing data feed dictionary\n",
    "        acc = sess.run(accuracy, outer_loop_feed_dict)\n",
    "        print(\"Iter =\" + str(epoch) + \", Testing Accuracy =\" + str(acc))"
   ]
  },
  {
   "cell_type": "markdown",
   "metadata": {},
   "source": [
    "### 作業\n",
    "對手寫數字識別(簡單版本)優化，使其準確率提升到 95%  \n",
    "限制: 不可用CNN"
   ]
  },
  {
   "cell_type": "code",
   "execution_count": 2,
   "metadata": {
    "collapsed": false
   },
   "outputs": [
    {
     "name": "stdout",
     "output_type": "stream",
     "text": [
      "Extracting MNIST_data\\train-images-idx3-ubyte.gz\n",
      "Extracting MNIST_data\\train-labels-idx1-ubyte.gz\n",
      "Extracting MNIST_data\\t10k-images-idx3-ubyte.gz\n",
      "Extracting MNIST_data\\t10k-labels-idx1-ubyte.gz\n",
      "Iter =0, Testing Accuracy =0.9133\n",
      "Iter =1, Testing Accuracy =0.9268\n",
      "Iter =2, Testing Accuracy =0.9334\n",
      "Iter =3, Testing Accuracy =0.9415\n",
      "Iter =4, Testing Accuracy =0.9468\n",
      "Iter =5, Testing Accuracy =0.9514\n",
      "Iter =6, Testing Accuracy =0.9558\n",
      "Iter =7, Testing Accuracy =0.9574\n",
      "Iter =8, Testing Accuracy =0.96\n",
      "Iter =9, Testing Accuracy =0.9619\n",
      "Iter =10, Testing Accuracy =0.9648\n",
      "Iter =11, Testing Accuracy =0.9649\n",
      "Iter =12, Testing Accuracy =0.9669\n",
      "Iter =13, Testing Accuracy =0.9677\n",
      "Iter =14, Testing Accuracy =0.9692\n",
      "Iter =15, Testing Accuracy =0.9705\n",
      "Iter =16, Testing Accuracy =0.9695\n",
      "Iter =17, Testing Accuracy =0.9703\n",
      "Iter =18, Testing Accuracy =0.9725\n",
      "Iter =19, Testing Accuracy =0.9737\n"
     ]
    }
   ],
   "source": [
    "import tensorflow as tf\n",
    "from tensorflow.examples.tutorials.mnist import input_data\n",
    "\n",
    "#載入數據集\n",
    "mnist = input_data.read_data_sets(\"MNIST_data\", one_hot = True) \n",
    "\n",
    "#每一個批次的大小\n",
    "batch_size = 100 \n",
    "\n",
    "#計算一共有多少批次\n",
    "n_batch = mnist.train.num_examples // batch_size \n",
    "\n",
    "#定義兩個placeholder，目的在於 train時候透過 feed 傳入 x_data 與 y_data\n",
    "x = tf.placeholder(tf.float32, [None, 784]) \n",
    "y = tf.placeholder(tf.float32, [None, 10]) \n",
    "\n",
    "\n",
    "#建立一個神經網路\n",
    "#隱藏層\n",
    "W1 = tf.Variable(tf.truncated_normal([784, 500], stddev=0.1))\n",
    "b1 = tf.Variable(tf.zeros([500]) + 0.1)\n",
    "L1 = tf.nn.tanh(tf.matmul(x, W1) + b1) #隱藏層的輸出\n",
    "\n",
    "\n",
    "#輸出層\n",
    "W2 = tf.Variable(tf.zeros([500, 10]))\n",
    "b2 = tf.Variable(tf.zeros([10]) + 0.1)\n",
    "prediction = tf.nn.tanh(tf.matmul(L1, W2) + b2)\n",
    "\n",
    "#代價函數 :\n",
    "loss = tf.reduce_mean(tf.nn.softmax_cross_entropy_with_logits_v2(labels = y, logits = prediction))\n",
    "\n",
    "#Gradient desent method \n",
    "gd = tf.train.GradientDescentOptimizer(0.2)\n",
    "\n",
    "#最小化 代價函數 (operator)\n",
    "train = gd.minimize(loss)\n",
    "\n",
    "#初始化變數 operator\n",
    "init = tf.global_variables_initializer()\n",
    "\n",
    "\n",
    "#結果存在一個 boolean 的變數中\n",
    "correct_prediction = tf.equal(tf.argmax(y, 1), tf.argmax(prediction, 1)) #argmax 回傳一維張量中最大的值，所在的位置\n",
    "\n",
    "#求準確率\n",
    "accuracy = tf.reduce_mean(tf.cast(correct_prediction, tf.float32)) \n",
    "\n",
    "#開始training\n",
    "with tf.Session() as sess:\n",
    "    sess.run(init)\n",
    "    for epoch in range(20): \n",
    "       \n",
    "        for batch in range(n_batch): #每一個 outer loop 疊代 n_batch 個批次\n",
    "\n",
    "            batch_xs, batch_ys = mnist.train.next_batch(batch_size)\n",
    "            feed_dict = {x: batch_xs, y: batch_ys} \n",
    "            sess.run(train, feed_dict)\n",
    "        #計算一次準確率\n",
    "        outer_loop_feed_dict = {x: mnist.test.images, y: mnist.test.labels} #testing data feed dictionary\n",
    "        acc = sess.run(accuracy, outer_loop_feed_dict)\n",
    "        print(\"Iter =\" + str(epoch) + \", Testing Accuracy =\" + str(acc))"
   ]
  },
  {
   "cell_type": "code",
   "execution_count": null,
   "metadata": {
    "collapsed": true
   },
   "outputs": [],
   "source": []
  }
 ],
 "metadata": {
  "anaconda-cloud": {},
  "kernelspec": {
   "display_name": "Python [default]",
   "language": "python",
   "name": "python3"
  },
  "language_info": {
   "codemirror_mode": {
    "name": "ipython",
    "version": 3
   },
   "file_extension": ".py",
   "mimetype": "text/x-python",
   "name": "python",
   "nbconvert_exporter": "python",
   "pygments_lexer": "ipython3",
   "version": "3.5.2"
  }
 },
 "nbformat": 4,
 "nbformat_minor": 1
}
